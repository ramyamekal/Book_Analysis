{
 "cells": [
  {
   "cell_type": "markdown",
   "id": "984e85ca-a3c3-4668-9609-a5a85ff756c2",
   "metadata": {},
   "source": [
    "# Load the book"
   ]
  },
  {
   "cell_type": "code",
   "execution_count": 9,
   "id": "8321c0a0-7f43-4d83-9652-6d8f80b35920",
   "metadata": {},
   "outputs": [],
   "source": [
    "with open(\"miracle_in_the_andes.txt\", \"r\", encoding=\"utf-8\") as file:\n",
    "    book = file.read()"
   ]
  },
  {
   "cell_type": "code",
   "execution_count": 12,
   "id": "3813fada-c2b4-4976-b0db-c87d5e33f67e",
   "metadata": {},
   "outputs": [
    {
     "data": {
      "text/plain": [
       "str"
      ]
     },
     "execution_count": 12,
     "metadata": {},
     "output_type": "execute_result"
    }
   ],
   "source": [
    "type(book)"
   ]
  },
  {
   "cell_type": "markdown",
   "id": "856c4114-d762-4071-8152-6948e4d7fc65",
   "metadata": {},
   "source": [
    "# How many chapters?"
   ]
  },
  {
   "cell_type": "markdown",
   "id": "d4bfda8d-40d8-4f24-a168-38ae13ec6fb3",
   "metadata": {},
   "source": [
    "# with string methods"
   ]
  },
  {
   "cell_type": "code",
   "execution_count": 15,
   "id": "88acf70a-b4c5-43f5-b14f-a0c1a9a26005",
   "metadata": {},
   "outputs": [
    {
     "data": {
      "text/plain": [
       "11"
      ]
     },
     "execution_count": 15,
     "metadata": {},
     "output_type": "execute_result"
    }
   ],
   "source": [
    "book.count(\"Chapter\")"
   ]
  },
  {
   "cell_type": "markdown",
   "id": "0e15d5f9-7def-4e66-adb2-8a12ea773b51",
   "metadata": {},
   "source": [
    "# with regex"
   ]
  },
  {
   "cell_type": "code",
   "execution_count": 16,
   "id": "1e8cbbee-0d78-407b-8cfc-9bb1c1932eab",
   "metadata": {},
   "outputs": [],
   "source": [
    "import re"
   ]
  },
  {
   "cell_type": "code",
   "execution_count": 31,
   "id": "4ea9f911-0113-4297-877c-e4b81e9554ea",
   "metadata": {},
   "outputs": [
    {
     "data": {
      "text/plain": [
       "[]"
      ]
     },
     "execution_count": 31,
     "metadata": {},
     "output_type": "execute_result"
    }
   ],
   "source": [
    "pattern = re.compile(\"Chapter [0-9]+\")\n",
    "findings = re.findall(pattern,book)\n",
    "len(findings)"
   ]
  },
  {
   "cell_type": "code",
   "execution_count": null,
   "id": "8a04579a-a6d5-426f-aafa-4c3f685fe7c4",
   "metadata": {},
   "outputs": [],
   "source": []
  }
 ],
 "metadata": {
  "kernelspec": {
   "display_name": "Python 3 (ipykernel)",
   "language": "python",
   "name": "python3"
  },
  "language_info": {
   "codemirror_mode": {
    "name": "ipython",
    "version": 3
   },
   "file_extension": ".py",
   "mimetype": "text/x-python",
   "name": "python",
   "nbconvert_exporter": "python",
   "pygments_lexer": "ipython3",
   "version": "3.13.3"
  }
 },
 "nbformat": 4,
 "nbformat_minor": 5
}
